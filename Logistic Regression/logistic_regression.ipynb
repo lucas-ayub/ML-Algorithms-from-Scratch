{
 "cells": [
  {
   "cell_type": "code",
   "execution_count": 2,
   "metadata": {},
   "outputs": [],
   "source": [
    "import numpy as np\n",
    "import matplotlib.pyplot as plt\n"
   ]
  },
  {
   "cell_type": "code",
   "execution_count": null,
   "metadata": {},
   "outputs": [],
   "source": [
    "def sigmoid(z):\n",
    "    sigma = 1 / (1 + np.exp(-z))\n",
    "    return sigma\n",
    "\n",
    "def log_loss(y, y_hat):\n",
    "    loss = -(y*np.log(y_hat) + (1-y)*np.log(1-y_hat))\n",
    "    return loss\n",
    "\n",
    "class LogisticRegression:\n",
    "    def __init__(self, X, y, epochs, learning_rate = 0.1):\n",
    "        self.m = X.shape[1]\n",
    "        self.weights = np.random.randn(self.m)\n",
    "        self.bias = 0.0\n",
    "        self.X = X\n",
    "        self.y = y\n",
    "        self.epochs = epochs\n",
    "        self.learning_rate = learning_rate\n",
    "    \n",
    "    def update_weights(self):\n",
    "        pass\n",
    "    \n",
    "    def predict(self, X):\n",
    "        z = np.dot(self.weights, X) + self.bias\n",
    "        y_hat = sigmoid(z)\n",
    "        return y_hat\n",
    "    \n",
    "    def classify(self, X, threshold = 0.5):\n",
    "        y_hat = self.predict(X)\n",
    "        return y_hat > threshold"
   ]
  }
 ],
 "metadata": {
  "kernelspec": {
   "display_name": "Python 3",
   "language": "python",
   "name": "python3"
  },
  "language_info": {
   "codemirror_mode": {
    "name": "ipython",
    "version": 3
   },
   "file_extension": ".py",
   "mimetype": "text/x-python",
   "name": "python",
   "nbconvert_exporter": "python",
   "pygments_lexer": "ipython3",
   "version": "3.11.7"
  }
 },
 "nbformat": 4,
 "nbformat_minor": 2
}
